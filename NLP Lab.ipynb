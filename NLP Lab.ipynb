{
 "cells": [
  {
   "cell_type": "markdown",
   "metadata": {},
   "source": [
    "**Design a transducer for 2's complement**"
   ]
  },
  {
   "cell_type": "code",
   "execution_count": 3,
   "metadata": {},
   "outputs": [
    {
     "name": "stdout",
     "output_type": "stream",
     "text": [
      "Enter a binary number : 001\n",
      "111\n"
     ]
    }
   ],
   "source": [
    "str=input(\"Enter a binary number : \")\n",
    "n = len(str)\n",
    "i = n-1\n",
    "while(i >= 0):\n",
    "    if (str[i] == '1'):\n",
    "        break\n",
    "    i -= 1\n",
    "k=i\n",
    "k1=k-1\n",
    "while(k1>=0):\n",
    "    if(str[k1]=='0'):\n",
    "        str1=list(str)\n",
    "        str1[k1]='1'\n",
    "        str=''.join(str1)\n",
    "    else:\n",
    "        str1=list(str)\n",
    "        str1[k1]='0'\n",
    "        str=''.join(str1)\n",
    "    k1=k1-1    \n",
    "        \n",
    "print(str)        \n",
    "    \n",
    "\n"
   ]
  },
  {
   "cell_type": "code",
   "execution_count": null,
   "metadata": {},
   "outputs": [],
   "source": []
  }
 ],
 "metadata": {
  "kernelspec": {
   "display_name": "Python 3",
   "language": "python",
   "name": "python3"
  },
  "language_info": {
   "codemirror_mode": {
    "name": "ipython",
    "version": 3
   },
   "file_extension": ".py",
   "mimetype": "text/x-python",
   "name": "python",
   "nbconvert_exporter": "python",
   "pygments_lexer": "ipython3",
   "version": "3.8.5"
  }
 },
 "nbformat": 4,
 "nbformat_minor": 4
}
